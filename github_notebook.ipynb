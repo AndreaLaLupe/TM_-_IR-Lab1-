{
 "cells": [
  {
   "cell_type": "markdown",
   "metadata": {},
   "source": [
<<<<<<< HEAD
=======
    "<div style=\"text-align: center;\">\n",
    "    <img src=\"./Datasets/credit-score-image.jpg\" alt=\"Imagen\" />\n",
    "</div>"
   ]
  },
  {
   "cell_type": "markdown",
   "metadata": {},
   "source": [
    "1. 📔 [Github Repositorio](#repository)  \n",
    "2. 📚 [README](#readme)  \n",
    "3. ⚙️ [Cambios en los Notebooks](#changes)"
   ]
  },
  {
   "cell_type": "markdown",
   "metadata": {},
   "source": [
>>>>>>> 73cf4f08463ec8eb64693459da589aa7852a27eb
    "<a id=\"repository\"></a>\n",
    "## 1.📔Github Repositorio"
   ]
  },
  {
   "cell_type": "code",
   "execution_count": 1,
   "metadata": {},
   "outputs": [
    {
     "name": "stdout",
     "output_type": "stream",
     "text": [
<<<<<<< HEAD
      "Initialized empty Git repository in C:/Users/aalva/OneDrive - Universidad Rafael Landivar/Universidad/Galileo/2024/Tercer Trimestre/Text Mining and Image Recognition/Laboratorios/Lab1/Lab1/.git/\n"
=======
      "Reinitialized existing Git repository in C:/Users/aalva/OneDrive - Universidad Rafael Landivar/Universidad/Galileo/2024/Segundo Trimestre/Statical Learning/Ejercicios/Proyecto/Proyecto_Fase_1/.git/\n"
>>>>>>> 73cf4f08463ec8eb64693459da589aa7852a27eb
     ]
    }
   ],
   "source": [
    "# Inicia el repositorio\n",
    "!git init"
   ]
  },
  {
   "cell_type": "code",
   "execution_count": 2,
   "metadata": {},
   "outputs": [],
   "source": [
    "# Configurar el nombre de usuario y el correo electrónico\n",
    "!git config --global user.name \"AndreaLaLupe\"\n",
    "!git config --global user.email \"aalvarez2014ig@gmail.com\""
   ]
  },
  {
   "cell_type": "code",
<<<<<<< HEAD
   "execution_count": 3,
=======
   "execution_count": 4,
>>>>>>> 73cf4f08463ec8eb64693459da589aa7852a27eb
   "metadata": {},
   "outputs": [
    {
     "name": "stderr",
     "output_type": "stream",
     "text": [
      "warning: in the working copy of 'github_notebook.ipynb', LF will be replaced by CRLF the next time Git touches it\n",
<<<<<<< HEAD
      "warning: in the working copy of 'lab_1.ipynb', LF will be replaced by CRLF the next time Git touches it\n"
=======
      "warning: in the working copy of '1. Proyecto_Statical_1.ipynb', LF will be replaced by CRLF the next time Git touches it\n",
      "warning: in the working copy of '2. Proyecto_Statical_2.ipynb', LF will be replaced by CRLF the next time Git touches it\n",
      "warning: in the working copy of '3. proyecto_fase_2.ipynb', LF will be replaced by CRLF the next time Git touches it\n"
>>>>>>> 73cf4f08463ec8eb64693459da589aa7852a27eb
     ]
    }
   ],
   "source": [
    "# Agregar todos los archivos al área de preparación\n",
    "!git add ."
   ]
  },
  {
   "cell_type": "code",
<<<<<<< HEAD
   "execution_count": 4,
=======
   "execution_count": 5,
>>>>>>> 73cf4f08463ec8eb64693459da589aa7852a27eb
   "metadata": {},
   "outputs": [
    {
     "name": "stdout",
     "output_type": "stream",
     "text": [
<<<<<<< HEAD
      "[master (root-commit) 73cf4f0] Primer Commit\n",
      " 18 files changed, 1343 insertions(+)\n",
      " create mode 100644 .DS_Store\n",
      " create mode 100644 Laboratorio_1.pdf\n",
      " create mode 100644 Problema_3/imagen_azul.jpg\n",
      " create mode 100644 Problema_3/imagen_rojo.jpg\n",
      " create mode 100644 Problema_3/imagen_verde.jpg\n",
      " create mode 100644 cono.png\n",
      " create mode 100644 github_notebook.ipynb\n",
      " create mode 100644 imagen1/imagen1_salida_gray_azul.jpg\n",
      " create mode 100644 imagen1/imagen1_salida_gray_rojo.jpg\n",
      " create mode 100644 imagen1/imagen1_salida_gray_verde.jpg\n",
      " create mode 100644 imagen2/imagen2_salida_gray_azul.jpg\n",
      " create mode 100644 imagen2/imagen2_salida_gray_rojo.jpg\n",
      " create mode 100644 imagen2/imagen2_salida_gray_verde.jpg\n",
      " create mode 100644 lab_1.ipynb\n",
      " create mode 100644 paris.jpg\n",
      " create mode 100644 perro/perro_salida_gray_azul.jpg\n",
      " create mode 100644 perro/perro_salida_gray_rojo.jpg\n",
      " create mode 100644 perro/perro_salida_gray_verde.jpg\n"
=======
      "[main 979bd9a] Segunda Fase\n",
      " 8 files changed, 239389 insertions(+), 100301 deletions(-)\n",
      " rename Proyecto_Statical_1.ipynb => 1. Proyecto_Statical_1.ipynb (100%)\n",
      " rename Proyecto_Statical_2.ipynb => 2. Proyecto_Statical_2.ipynb (97%)\n",
      " create mode 100644 3. proyecto_fase_2.ipynb\n",
      " create mode 100644 Fase_2.pdf\n",
      " create mode 100644 Resultados/resultados_modelos.xlsx\n"
>>>>>>> 73cf4f08463ec8eb64693459da589aa7852a27eb
     ]
    }
   ],
   "source": [
    "# Hacer el primer commit\n",
<<<<<<< HEAD
    "!git commit -m \"Primer Commit\""
=======
    "!git commit -m \"Segunda Fase\""
>>>>>>> 73cf4f08463ec8eb64693459da589aa7852a27eb
   ]
  },
  {
   "cell_type": "code",
<<<<<<< HEAD
   "execution_count": 5,
   "metadata": {},
   "outputs": [],
   "source": [
    "# Agregar el repositorio remoto\n",
    "!git remote add origin https://github.com/AndreaLaLupe/TM_-_IR-Lab1-.git"
   ]
  },
  {
   "cell_type": "code",
   "execution_count": 10,
=======
   "execution_count": 6,
>>>>>>> 73cf4f08463ec8eb64693459da589aa7852a27eb
   "metadata": {},
   "outputs": [
    {
     "name": "stderr",
     "output_type": "stream",
     "text": [
<<<<<<< HEAD
      "Switched to a new branch 'main'\n"
=======
      "error: remote origin already exists.\n"
>>>>>>> 73cf4f08463ec8eb64693459da589aa7852a27eb
     ]
    }
   ],
   "source": [
<<<<<<< HEAD
    "!git checkout -b main"
=======
    "# Agregar el repositorio remoto\n",
    "!git remote add origin https://github.com/AndreaLaLupe/Statical_Learning_Project.git"
>>>>>>> 73cf4f08463ec8eb64693459da589aa7852a27eb
   ]
  },
  {
   "cell_type": "code",
<<<<<<< HEAD
   "execution_count": 12,
=======
   "execution_count": 7,
>>>>>>> 73cf4f08463ec8eb64693459da589aa7852a27eb
   "metadata": {},
   "outputs": [
    {
     "name": "stdout",
     "output_type": "stream",
     "text": [
<<<<<<< HEAD
      "branch 'main' set up to track 'origin/main'.\n"
=======
      "Already up to date.\n"
>>>>>>> 73cf4f08463ec8eb64693459da589aa7852a27eb
     ]
    },
    {
     "name": "stderr",
     "output_type": "stream",
     "text": [
<<<<<<< HEAD
      "To https://github.com/AndreaLaLupe/TM_-_IR-Lab1-.git\n",
      " * [new branch]      main -> main\n"
=======
      "From https://github.com/AndreaLaLupe/Statical_Learning_Project\n",
      " * branch            main       -> FETCH_HEAD\n"
     ]
    }
   ],
   "source": [
    "# Traer los cambios (README.md) del repositorio remoto al repositorio local.\n",
    "!git pull origin main --allow-unrelated-histories"
   ]
  },
  {
   "cell_type": "code",
   "execution_count": 8,
   "metadata": {},
   "outputs": [
    {
     "name": "stdout",
     "output_type": "stream",
     "text": [
      "On branch main\n",
      "nothing to commit, working tree clean\n"
     ]
    }
   ],
   "source": [
    "# Agregar y hacer commit de los cambios resueltos\n",
    "!git add .\n",
    "!git commit -m \"Resueltos conflictos después del pull con --allow-unrelated-histories\""
   ]
  },
  {
   "cell_type": "code",
   "execution_count": 9,
   "metadata": {},
   "outputs": [
    {
     "name": "stderr",
     "output_type": "stream",
     "text": [
      "To https://github.com/AndreaLaLupe/Statical_Learning_Project.git\n",
      "   6a0a220..979bd9a  main -> main\n"
>>>>>>> 73cf4f08463ec8eb64693459da589aa7852a27eb
     ]
    }
   ],
   "source": [
    "# Empujar los cambios al repositorio remoto\n",
<<<<<<< HEAD
    "!git push -u origin main"
=======
    "!git push origin main"
   ]
  },
  {
   "cell_type": "markdown",
   "metadata": {},
   "source": [
    "<a id=\"readme\"></a>\n",
    "## 2.📚README"
   ]
  },
  {
   "cell_type": "code",
   "execution_count": 28,
   "metadata": {},
   "outputs": [
    {
     "name": "stdout",
     "output_type": "stream",
     "text": [
      "[main 524d058] Actualización del archivo README.md\n",
      " 1 file changed, 28 insertions(+), 2 deletions(-)\n"
     ]
    }
   ],
   "source": [
    "#  Agregar y hacer commit de los cambios\n",
    "!git add README.md\n",
    "!git commit -m \"Actualización del archivo README.md\"\n"
   ]
  },
  {
   "cell_type": "code",
   "execution_count": 29,
   "metadata": {},
   "outputs": [
    {
     "name": "stderr",
     "output_type": "stream",
     "text": [
      "To https://github.com/AndreaLaLupe/Statical_Learning_Project.git\n",
      "   c9d2250..524d058  main -> main\n"
     ]
    }
   ],
   "source": [
    "# Empujar los cambios al repositorio remoto\n",
    "!git push origin main"
   ]
  },
  {
   "cell_type": "markdown",
   "metadata": {},
   "source": [
    "<a id=\"changes\"></a>\n",
    "## 3. ⚙️ Cambios en los Notebooks"
   ]
  },
  {
   "cell_type": "code",
   "execution_count": 30,
   "metadata": {},
   "outputs": [
    {
     "name": "stderr",
     "output_type": "stream",
     "text": [
      "warning: in the working copy of 'Proyecto_Statical_1.ipynb', LF will be replaced by CRLF the next time Git touches it\n",
      "warning: in the working copy of 'Proyecto_Statical_2.ipynb', LF will be replaced by CRLF the next time Git touches it\n",
      "warning: in the working copy of 'github_notebook.ipynb', LF will be replaced by CRLF the next time Git touches it\n"
     ]
    }
   ],
   "source": [
    "# Agregar los cambios\n",
    "!git add ."
   ]
  },
  {
   "cell_type": "code",
   "execution_count": 31,
   "metadata": {},
   "outputs": [
    {
     "name": "stdout",
     "output_type": "stream",
     "text": [
      "[main 6a0a220] Actualizar notebooks\n",
      " 3 files changed, 100283 insertions(+), 47 deletions(-)\n",
      " create mode 100644 Datasets/dataset_new_2.csv\n"
     ]
    }
   ],
   "source": [
    "# Hacer commit de los cambios\n",
    "!git commit -m \"Actualizar notebooks\""
   ]
  },
  {
   "cell_type": "code",
   "execution_count": 32,
   "metadata": {},
   "outputs": [
    {
     "name": "stderr",
     "output_type": "stream",
     "text": [
      "To https://github.com/AndreaLaLupe/Statical_Learning_Project.git\n",
      "   524d058..6a0a220  main -> main\n"
     ]
    }
   ],
   "source": [
    "# Empujar los cambios al repositorio remoto\n",
    "!git push origin main"
>>>>>>> 73cf4f08463ec8eb64693459da589aa7852a27eb
   ]
  }
 ],
 "metadata": {
  "kernelspec": {
   "display_name": "base",
   "language": "python",
   "name": "python3"
  },
  "language_info": {
   "codemirror_mode": {
    "name": "ipython",
    "version": 3
   },
   "file_extension": ".py",
   "mimetype": "text/x-python",
   "name": "python",
   "nbconvert_exporter": "python",
   "pygments_lexer": "ipython3",
   "version": "3.11.7"
  }
 },
 "nbformat": 4,
 "nbformat_minor": 2
}
